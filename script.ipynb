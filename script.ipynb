{
 "cells": [
  {
   "cell_type": "code",
   "execution_count": null,
   "metadata": {
    "collapsed": true
   },
   "outputs": [],
   "source": [
    "from DQN import DQN\n",
    "from k_cut import *\n",
    "import matplotlib.pyplot as plt\n",
    "from smooth_signal import smooth\n",
    "import numpy as np\n",
    "import time\n",
    "import torch\n",
    "import os\n",
    "import gc\n",
    "import memory_profiler\n",
    "import matplotlib.pyplot as plt\n",
    "\n",
    "k=3\n",
    "problem = KCut_DGL(k=k, m=4, adjacent_reserve=3, hidden_dim=8, random_init_label=True, a=1)\n",
    "problem.reset()\n",
    "# g = generate_G(k=k, m=4, adjacent_reserve=1, hidden_dim=8, random_init_label=True, a=1, sample=False)['g']\n",
    "\n",
    "\n",
    "X = problem.g.ndata['x']\n",
    "n = X.shape[0]\n",
    "label = problem.g.ndata['label']\n",
    "link = dc(problem.g.edata['e_type'].view(n, n-1, 2))\n",
    "c = ['r', 'b', 'y']\n",
    "plt.cla()\n",
    "\n",
    "\n",
    "for i in range(k):\n",
    "    a = X[(label[:, i] > 0).nonzero().squeeze()]\n",
    "    plt.scatter(a[:, 0], a[:, 1], s=100, c=c[i])\n",
    "\n",
    "for i in range(n):\n",
    "    plt.annotate(str(i), xy=(X[i, 0], X[i, 1]))\n",
    "    for j in range(n-1):\n",
    "        if link[i, j][0].item() == 1:\n",
    "            j_ = j\n",
    "            if j >= i:\n",
    "                j_ = j + 1\n",
    "            plt.plot([X[i, 0], X[j_, 0]], [X[i, 1], X[j_, 1]], '-', color='k')\n",
    "plt.savefig('./test.jpg')"
   ]
  }
 ],
 "metadata": {
  "kernelspec": {
   "display_name": "Python 3",
   "language": "python",
   "name": "python3"
  },
  "language_info": {
   "codemirror_mode": {
    "name": "ipython",
    "version": 2
   },
   "file_extension": ".py",
   "mimetype": "text/x-python",
   "name": "python",
   "nbconvert_exporter": "python",
   "pygments_lexer": "ipython2",
   "version": "2.7.6"
  },
  "pycharm": {
   "stem_cell": {
    "cell_type": "raw",
    "source": [],
    "metadata": {
     "collapsed": false
    }
   }
  }
 },
 "nbformat": 4,
 "nbformat_minor": 0
}